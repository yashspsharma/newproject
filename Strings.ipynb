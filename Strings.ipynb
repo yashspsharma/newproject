{
 "cells": [
  {
   "cell_type": "code",
   "execution_count": null,
   "metadata": {},
   "outputs": [],
   "source": [
    "# ''endswith',  # retrun TRUE if pattern is present at the end of the string\n",
    "# stringName.endswith(pattern)\n",
    "# startswith', # retrun TRUE if pattern is present at the start of the string\n",
    "# stringName.startswith(pattern)\n"
   ]
  },
  {
   "cell_type": "code",
   "execution_count": null,
   "metadata": {},
   "outputs": [],
   "source": [
    "# join split partition rpartition', 'rsplit #** After LIST"
   ]
  },
  {
   "cell_type": "code",
   "execution_count": 2,
   "metadata": {},
   "outputs": [
    {
     "name": "stdout",
     "output_type": "stream",
     "text": [
      "3\n",
      "1\n",
      "0\n"
     ]
    }
   ],
   "source": [
    "# 3. count : frequecy of that char, if PRESENT\n",
    "\n",
    "s = \"pyTHon ProgramMINg in December\"\n",
    "\n",
    "print( s.count(\"e\") )\n",
    "print( s.count(\"p\") ) # ??\n",
    "print( s.count(\"Z\") )\n",
    "\n",
    "\n",
    "# Q. find the chars that occur more than once (FIND DUPLICATES) ** Hint: LOOPS"
   ]
  },
  {
   "cell_type": "code",
   "execution_count": 10,
   "metadata": {},
   "outputs": [
    {
     "data": {
      "text/plain": [
       "'do learning do pushing do growing do enjoying'"
      ]
     },
     "execution_count": 10,
     "metadata": {},
     "output_type": "execute_result"
    }
   ],
   "source": [
    "# 4. replace : old pattern with new pattern\n",
    "# replace all in word\n",
    "# stringName.replace(old, new)\n",
    "\n",
    "s = \"keep learning keep pushing keep growing keep enjoying\"\n",
    "s.replace(\"keep\", \"do\")\n"
   ]
  },
  {
   "cell_type": "code",
   "execution_count": 7,
   "metadata": {},
   "outputs": [
    {
     "data": {
      "text/plain": [
       "'do learning do pushing do growing keep enjoying'"
      ]
     },
     "execution_count": 7,
     "metadata": {},
     "output_type": "execute_result"
    }
   ],
   "source": [
    "s.replace(\"keep\", \"do\", 3)  # research. "
   ]
  },
  {
   "cell_type": "code",
   "execution_count": 4,
   "metadata": {},
   "outputs": [
    {
     "name": "stdout",
     "output_type": "stream",
     "text": [
      "keep learning keep pushing keep growing keep enjoying\n"
     ]
    }
   ],
   "source": [
    "s = \"keep learning keep pushing keep growing keep enjoying\"\n",
    "answer = s.replace(\"ALGEBRA\", \"do\")\n",
    "print(answer)"
   ]
  },
  {
   "cell_type": "code",
   "execution_count": null,
   "metadata": {},
   "outputs": [],
   "source": [
    "# 5. find and index\n",
    "# return the position of the pattern from the LEFT side, if exist else will return -1\n",
    "# return the First OCCURENCE.. \n",
    "# \n",
    "\n"
   ]
  },
  {
   "cell_type": "code",
   "execution_count": 6,
   "metadata": {},
   "outputs": [
    {
     "name": "stdout",
     "output_type": "stream",
     "text": [
      "0\n"
     ]
    }
   ],
   "source": [
    "msg = \"you have won the prize and you will receive it by tonight. may you have nice day\"\n",
    "print( msg.find(\"you\") )\n",
    "# 1 "
   ]
  },
  {
   "cell_type": "code",
   "execution_count": 7,
   "metadata": {},
   "outputs": [
    {
     "name": "stdout",
     "output_type": "stream",
     "text": [
      "27\n"
     ]
    }
   ],
   "source": [
    "msg = \"you have won the prize and you will receive it by tonight. may you have nice day\"\n",
    "print( msg.index(\"you\",  1) )\n",
    "# 1 "
   ]
  },
  {
   "cell_type": "code",
   "execution_count": 15,
   "metadata": {},
   "outputs": [
    {
     "name": "stdout",
     "output_type": "stream",
     "text": [
      "23\n"
     ]
    }
   ],
   "source": [
    "print( msg.find(\"and\") )\n"
   ]
  },
  {
   "cell_type": "code",
   "execution_count": 16,
   "metadata": {},
   "outputs": [
    {
     "data": {
      "text/plain": [
       "'a'"
      ]
     },
     "execution_count": 16,
     "metadata": {},
     "output_type": "execute_result"
    }
   ],
   "source": [
    "msg[23]"
   ]
  },
  {
   "cell_type": "code",
   "execution_count": 24,
   "metadata": {},
   "outputs": [
    {
     "name": "stdout",
     "output_type": "stream",
     "text": [
      "27\n"
     ]
    }
   ],
   "source": [
    "msg = \"you have won the prize and you will receive it by tonight. may you have nice day\"\n",
    "print( msg.find(\"you\", 25) )\n"
   ]
  },
  {
   "cell_type": "code",
   "execution_count": 18,
   "metadata": {},
   "outputs": [
    {
     "name": "stdout",
     "output_type": "stream",
     "text": [
      "27\n"
     ]
    }
   ],
   "source": [
    "print( msg.find(\"you\", msg.find(\"you\") + 1) )\n"
   ]
  },
  {
   "cell_type": "code",
   "execution_count": 21,
   "metadata": {},
   "outputs": [],
   "source": [
    "# msg(\"you\", msg.find(\"you\", msg.find(\"you\") + 1) + 1)"
   ]
  },
  {
   "cell_type": "code",
   "execution_count": 25,
   "metadata": {},
   "outputs": [],
   "source": [
    "# Q. Find the position of 2nd time pattern is occuring."
   ]
  },
  {
   "cell_type": "code",
   "execution_count": null,
   "metadata": {},
   "outputs": [],
   "source": []
  },
  {
   "cell_type": "code",
   "execution_count": 28,
   "metadata": {},
   "outputs": [],
   "source": [
    "msg = \"you have won the prize and you will receive it by tonight and may you have nice day\"\n",
    "\n",
    "# find the position of 2nd \"and\"\n"
   ]
  },
  {
   "cell_type": "code",
   "execution_count": 29,
   "metadata": {},
   "outputs": [
    {
     "name": "stdout",
     "output_type": "stream",
     "text": [
      "23\n"
     ]
    }
   ],
   "source": [
    "print( msg.find(\"and\") )"
   ]
  },
  {
   "cell_type": "code",
   "execution_count": 33,
   "metadata": {},
   "outputs": [
    {
     "name": "stdout",
     "output_type": "stream",
     "text": [
      "-1\n"
     ]
    }
   ],
   "source": [
    "print( msg.find(\"and\", msg.find(\"and\") + 1) )"
   ]
  },
  {
   "cell_type": "code",
   "execution_count": 34,
   "metadata": {},
   "outputs": [
    {
     "name": "stdout",
     "output_type": "stream",
     "text": [
      "58\n"
     ]
    }
   ],
   "source": [
    "msg = \"you have won the prize and you will receive it by tonight and may you have nice day\"\n",
    "\n",
    "print( msg.index(\"and\", msg.index(\"and\") + 1) )"
   ]
  },
  {
   "cell_type": "code",
   "execution_count": 37,
   "metadata": {},
   "outputs": [
    {
     "name": "stdout",
     "output_type": "stream",
     "text": [
      "23\n",
      "58\n"
     ]
    }
   ],
   "source": [
    "# 6. rfind and rindex\n",
    "# return the position of the pattern from the RIGTH side, if exist else will return -1\n",
    "# return the First OCCURENCE.. \n",
    "# Output Positions are referred wrt LEFT only\n",
    "\n",
    "msg = \"you have won the prize and you will receive it by tonight and may you have nice day\"\n",
    "\n",
    "print( msg.find(\"and\") )\n",
    "print( msg.rfind(\"and\") )\n"
   ]
  },
  {
   "cell_type": "code",
   "execution_count": 50,
   "metadata": {},
   "outputs": [
    {
     "name": "stdout",
     "output_type": "stream",
     "text": [
      "84\n",
      "a\n"
     ]
    }
   ],
   "source": [
    "msg = \"you have won the prize and you will receive it by tonight and may you have nice day and\"\n",
    "\n",
    "print( msg.rfind(\"and\",  msg.rfind(\"and\")  ) )  # **\n",
    "print(msg[84])"
   ]
  },
  {
   "cell_type": "code",
   "execution_count": 54,
   "metadata": {},
   "outputs": [
    {
     "name": "stdout",
     "output_type": "stream",
     "text": [
      "  python  \n",
      "    python\n",
      "python    \n",
      "**python**\n",
      "****python\n",
      "python****\n"
     ]
    }
   ],
   "source": [
    "# 6. Formatting\n",
    "\n",
    "s = \"python\"\n",
    "\n",
    "# width = 10  # Q. Take width from user..\n",
    "\"  python  \"\n",
    "\"    python\"\n",
    "\"python    \"\n",
    "\n",
    "\"**python**\"\n",
    "\"****python\"\n",
    "\"python****\"\n",
    "\n",
    "print( s.center(10) )\n",
    "print( s.rjust(10) )\n",
    "print( s.ljust(10) )\n",
    "\n",
    "print( s.center(10, \"*\") )\n",
    "print( s.rjust(10, \"*\") )\n",
    "print( s.ljust(10, \"*\") )\n"
   ]
  },
  {
   "cell_type": "code",
   "execution_count": 72,
   "metadata": {},
   "outputs": [
    {
     "name": "stdout",
     "output_type": "stream",
     "text": [
      "0000python\n"
     ]
    }
   ],
   "source": [
    "print( s.zfill(10) )\n"
   ]
  },
  {
   "cell_type": "code",
   "execution_count": 56,
   "metadata": {},
   "outputs": [
    {
     "name": "stdout",
     "output_type": "stream",
     "text": [
      "python\n",
      "python\n",
      "python\n",
      "       python       \n",
      "              python\n",
      "python              \n"
     ]
    }
   ],
   "source": [
    "# 6. Formatting\n",
    "\n",
    "s = \"python\"\n",
    "\n",
    "print( s.center(2) )\n",
    "print( s.rjust(2) )\n",
    "print( s.ljust(2) )\n",
    "\n",
    "# print( s.center(10, \"*\") )\n",
    "# print( s.rjust(10, \"*\") )\n",
    "# print( s.ljust(10, \"*\") )\n",
    "\n",
    "print( s.center(20) )\n",
    "print( s.rjust(20) )\n",
    "print( s.ljust(20) )\n"
   ]
  },
  {
   "cell_type": "code",
   "execution_count": 58,
   "metadata": {},
   "outputs": [
    {
     "data": {
      "text/plain": [
       "'Arun is earning $300.50 at the age of 25'"
      ]
     },
     "execution_count": 58,
     "metadata": {},
     "output_type": "execute_result"
    }
   ],
   "source": [
    "# 7. format function\n",
    "\n",
    "name = \"Nitish\"\n",
    "age = 30\n",
    "salary = 500.50\n",
    "\n",
    "\"Nitish is earning $500.50 at the age of 30\"\n",
    "\"Arun is earning $300.50 at the age of 25\"\n"
   ]
  },
  {
   "cell_type": "code",
   "execution_count": 9,
   "metadata": {},
   "outputs": [
    {
     "name": "stdout",
     "output_type": "stream",
     "text": [
      "Mention Name : Nitish\n",
      "Mention Age : 30\n",
      "Mention Salary : 255.2\n",
      "Nitish is earning $255.2 at the age of 30\n"
     ]
    }
   ],
   "source": [
    "# xyz = \"{0} is earning ${1} at the age of {2}\"\n",
    "\n",
    "name = input(\"Mention Name : \")\n",
    "age = int( input(\"Mention Age : \") )\n",
    "salary = float( input(\"Mention Salary : \") )\n",
    "\n",
    "\n",
    "\n",
    "# print( \"%s is earning $%0.2f at the age of %d\"%(name, salary, age) )\n",
    "# print( \"{0} is earning ${1} at the age of {2}\".format(name, salary, age) )\n",
    "\n",
    "print( f\"{name} is earning ${salary} at the age of {age}\" )\n",
    "\n",
    "\n"
   ]
  },
  {
   "cell_type": "code",
   "execution_count": 69,
   "metadata": {},
   "outputs": [
    {
     "name": "stdout",
     "output_type": "stream",
     "text": [
      "Nitish is earning $500.25 at the age of 30\n",
      "Nitish belongs to Delhi and he is living since 30\n"
     ]
    }
   ],
   "source": [
    "# print( \"\"\"{0} is earning ${1} at the age of {2}\n",
    "# {0} belongs to Delhi and he is living since {2}\"\"\".format(name, salary, age) )\n",
    "\n",
    "\n",
    "# print( \"\"\"%s is earning $%0.2f at the age of %d\n",
    "# %s belongs to Delhi and he is living since %d\"\"\"%(name, salary, age, name, age) )\n",
    "\n",
    "\n",
    "print( f\"\"\"{name} is earning ${salary} at the age of {age}\n",
    "{name} belongs to Delhi and he is living since {age}\"\"\" )\n"
   ]
  },
  {
   "cell_type": "code",
   "execution_count": null,
   "metadata": {},
   "outputs": [],
   "source": [
    "# nitishvig007@gmail.com"
   ]
  },
  {
   "cell_type": "code",
   "execution_count": 75,
   "metadata": {},
   "outputs": [],
   "source": [
    "# name belongs to INDIA - use OPTION 1\n",
    "\n",
    "symbol = [\"$\", \"₹\"]  # LIST **\n",
    "# if option == 1 : \n",
    " "
   ]
  },
  {
   "cell_type": "code",
   "execution_count": 76,
   "metadata": {},
   "outputs": [
    {
     "name": "stdout",
     "output_type": "stream",
     "text": [
      "NITISH is earning ₹500.25 at the age of 30\n",
      "nitish belongs to Delhi and he is living since 20\n"
     ]
    }
   ],
   "source": [
    "print( f\"\"\"{name.upper()} is earning {symbol[1]}{salary} at the age of {age}\n",
    "{name.lower()} belongs to Delhi and he is living since {age - 10}\"\"\" )\n"
   ]
  },
  {
   "cell_type": "code",
   "execution_count": 77,
   "metadata": {},
   "outputs": [
    {
     "name": "stdout",
     "output_type": "stream",
     "text": [
      "NITISH is earning ₹500.25 at the age of 30\n",
      "nitish belongs to Delhi and he is living since 20\n"
     ]
    }
   ],
   "source": [
    "print( f\"\"\"{name.upper()} is earning ₹{salary} at the age of {age}\n",
    "{name.lower()} belongs to Delhi and he is living since {age - 10}\"\"\" )\n"
   ]
  },
  {
   "cell_type": "code",
   "execution_count": null,
   "metadata": {},
   "outputs": [],
   "source": []
  },
  {
   "cell_type": "code",
   "execution_count": null,
   "metadata": {},
   "outputs": [],
   "source": []
  },
  {
   "cell_type": "code",
   "execution_count": null,
   "metadata": {},
   "outputs": [],
   "source": [
    "# 8. String Test Cases\n",
    "# return True is expression is right else False\n",
    "\n",
    "msg = \"An OTP 8792 is shared with you on 8874857458 and nitish@h.com\"\n",
    "word = \"87562A@#$%^&*(p}{:P589652/*-L~!@#$e})\"\n",
    "\n"
   ]
  },
  {
   "cell_type": "code",
   "execution_count": 79,
   "metadata": {},
   "outputs": [
    {
     "name": "stdout",
     "output_type": "stream",
     "text": [
      "True\n",
      "False\n",
      "False\n",
      "False\n",
      "True\n",
      "False\n",
      "True\n"
     ]
    }
   ],
   "source": [
    "s = \"python\"\n",
    "\n",
    "print( s.islower() ) # hello sir\n",
    "print( s.isupper() ) # # HELLO SIR\n",
    "print( s.istitle() ) # Hello Sir\n",
    "print( s.isspace() ) # \"    \"\n",
    "print( s.isalpha() )  # a-z, A-Z\n",
    "print( s.isdigit() ) # 0 - 9\n",
    "print( s.isalnum() ) # alnum : alpha numeric :: a-z, A-Z, 0 - 9"
   ]
  },
  {
   "cell_type": "code",
   "execution_count": 82,
   "metadata": {},
   "outputs": [
    {
     "name": "stdout",
     "output_type": "stream",
     "text": [
      "False\n",
      "False\n",
      "True\n",
      "False\n",
      "False\n",
      "False\n",
      "False\n"
     ]
    }
   ],
   "source": [
    "s = \"Hi Sir\"\n",
    "\n",
    "print( s.islower() ) # hello sir\n",
    "print( s.isupper() ) # # HELLO SIR\n",
    "print( s.istitle() ) # Hello Sir\n",
    "print( s.isspace() ) # \"    \"\n",
    "print( s.isalpha() )  # a-z, A-Z\n",
    "print( s.isdigit() ) # 0 - 9\n",
    "print( s.isalnum() ) # alnum : alpha numeric :: a-z, A-Z, 0 - 9"
   ]
  },
  {
   "cell_type": "code",
   "execution_count": null,
   "metadata": {},
   "outputs": [],
   "source": []
  },
  {
   "cell_type": "code",
   "execution_count": 84,
   "metadata": {},
   "outputs": [
    {
     "name": "stdout",
     "output_type": "stream",
     "text": [
      "False\n",
      "False\n",
      "False\n",
      "False\n",
      "False\n",
      "False\n",
      "False\n"
     ]
    }
   ],
   "source": [
    "s = \"blue Sky\"\n",
    "\n",
    "print( s.islower() ) # hello sir\n",
    "print( s.isupper() ) # # HELLO SIR\n",
    "print( s.istitle() ) # Hello Sir\n",
    "print( s.isspace() ) # \"    \"\n",
    "print( s.isalpha() )  # a-z, A-Z\n",
    "print( s.isdigit() ) # 0 - 9\n",
    "print( s.isalnum() ) # alnum : alpha numeric :: a-z, A-Z, 0 - 9"
   ]
  },
  {
   "cell_type": "code",
   "execution_count": 85,
   "metadata": {},
   "outputs": [
    {
     "name": "stdout",
     "output_type": "stream",
     "text": [
      "False\n",
      "False\n",
      "False\n",
      "True\n",
      "False\n",
      "False\n",
      "False\n"
     ]
    }
   ],
   "source": [
    "s = \"        \"\n",
    "\n",
    "print( s.islower() ) # hello sir\n",
    "print( s.isupper() ) # # HELLO SIR\n",
    "print( s.istitle() ) # Hello Sir\n",
    "print( s.isspace() ) # \"    \"\n",
    "print( s.isalpha() )  # a-z, A-Z\n",
    "print( s.isdigit() ) # 0 - 9\n",
    "print( s.isalnum() ) # alnum : alpha numeric :: a-z, A-Z, 0 - 9"
   ]
  },
  {
   "cell_type": "code",
   "execution_count": 87,
   "metadata": {},
   "outputs": [
    {
     "name": "stdout",
     "output_type": "stream",
     "text": [
      "True\n",
      "False\n",
      "False\n",
      "False\n",
      "False\n",
      "False\n",
      "True\n"
     ]
    }
   ],
   "source": [
    "s = \"delhi9721\"\n",
    "\n",
    "print( s.islower() ) # hello sir\n",
    "print( s.isupper() ) # # HELLO SIR\n",
    "print( s.istitle() ) # Hello Sir\n",
    "print( s.isspace() ) # \"    \"\n",
    "print( s.isalpha() )  # a-z, A-Z\n",
    "print( s.isdigit() ) # 0 - 9\n",
    "print( s.isalnum() ) # alnum : alpha numeric :: a-z, A-Z, 0 - 9"
   ]
  },
  {
   "cell_type": "code",
   "execution_count": 88,
   "metadata": {},
   "outputs": [
    {
     "name": "stdout",
     "output_type": "stream",
     "text": [
      "False\n",
      "True\n",
      "False\n",
      "False\n",
      "False\n",
      "False\n",
      "False\n"
     ]
    }
   ],
   "source": [
    "s = \"LOOP$40\"\n",
    "\n",
    "print( s.islower() ) # hello sir, it can include all chars\n",
    "print( s.isupper() ) # # HELLO SIR , it can include all chars\n",
    "print( s.istitle() ) # Hello Sir, it can include all chars\n",
    "print( s.isspace() ) # \"    \"\n",
    "print( s.isalpha() )  # a-z, A-Z\n",
    "print( s.isdigit() ) # 0 - 9\n",
    "print( s.isalnum() ) # alnum : alpha numeric :: a-z, A-Z, 0 - 9"
   ]
  },
  {
   "cell_type": "code",
   "execution_count": 90,
   "metadata": {},
   "outputs": [
    {
     "name": "stdout",
     "output_type": "stream",
     "text": [
      "False\n",
      "True\n",
      "False\n",
      "False\n",
      "False\n",
      "False\n",
      "False\n"
     ]
    }
   ],
   "source": [
    "s = \"LOOP   $  /*-@#$%^&* 40\"\n",
    "\n",
    "print( s.islower() ) # hello sir, it can include all chars\n",
    "print( s.isupper() ) # # HELLO SIR , it can include all chars\n",
    "print( s.istitle() ) # Hello Sir, it can include all chars\n",
    "print( s.isspace() ) # \"    \"\n",
    "print( s.isalpha() )  # a-z, A-Z\n",
    "print( s.isdigit() ) # 0 - 9\n",
    "print( s.isalnum() ) # alnum : alpha numeric :: a-z, A-Z, 0 - 9"
   ]
  },
  {
   "cell_type": "code",
   "execution_count": 106,
   "metadata": {},
   "outputs": [
    {
     "name": "stdout",
     "output_type": "stream",
     "text": [
      "Hello sir from india\n"
     ]
    }
   ],
   "source": [
    "word = \"hello sir from india\"\n",
    "\n",
    "print(word.capitalize())"
   ]
  },
  {
   "cell_type": "code",
   "execution_count": 107,
   "metadata": {},
   "outputs": [
    {
     "name": "stdout",
     "output_type": "stream",
     "text": [
      "Hello Sir From India\n"
     ]
    }
   ],
   "source": [
    "print(word.title())"
   ]
  },
  {
   "cell_type": "code",
   "execution_count": null,
   "metadata": {},
   "outputs": [],
   "source": []
  },
  {
   "cell_type": "code",
   "execution_count": null,
   "metadata": {},
   "outputs": [],
   "source": []
  },
  {
   "cell_type": "code",
   "execution_count": null,
   "metadata": {},
   "outputs": [],
   "source": [
    "# is this APPLE ?\n",
    "# is it right ??"
   ]
  },
  {
   "cell_type": "code",
   "execution_count": 92,
   "metadata": {},
   "outputs": [
    {
     "name": "stdout",
     "output_type": "stream",
     "text": [
      "True\n"
     ]
    }
   ],
   "source": [
    "s = \"hello earth\"\n",
    "\n",
    "print( s.isprintable() ) # return TRUE for single line"
   ]
  },
  {
   "cell_type": "code",
   "execution_count": 93,
   "metadata": {},
   "outputs": [
    {
     "name": "stdout",
     "output_type": "stream",
     "text": [
      "True\n"
     ]
    }
   ],
   "source": [
    "s = \"\"\"hello earth\"\"\"\n",
    "\n",
    "print( s.isprintable() ) "
   ]
  },
  {
   "cell_type": "code",
   "execution_count": 94,
   "metadata": {},
   "outputs": [
    {
     "name": "stdout",
     "output_type": "stream",
     "text": [
      "False\n"
     ]
    }
   ],
   "source": [
    "s = \"\"\"hello \n",
    "earth\"\"\"\n",
    "\n",
    "print( s.isprintable() ) "
   ]
  },
  {
   "cell_type": "code",
   "execution_count": 98,
   "metadata": {},
   "outputs": [
    {
     "name": "stdout",
     "output_type": "stream",
     "text": [
      "True\n",
      "True\n",
      "True\n"
     ]
    }
   ],
   "source": [
    "s = \"8752\"\n",
    "\n",
    "print( s.isdigit() )  # 0 - 9\n",
    "print( s.isnumeric() ) # super and sub scripts\n",
    "print( s.isdecimal() ) # roman I, II, IV"
   ]
  },
  {
   "cell_type": "code",
   "execution_count": 99,
   "metadata": {},
   "outputs": [
    {
     "name": "stdout",
     "output_type": "stream",
     "text": [
      "False\n",
      "False\n",
      "False\n"
     ]
    }
   ],
   "source": [
    "k = 'H₂SO₄'\n",
    "\n",
    "print( k.isdigit() )  # 0 - 9\n",
    "print( k.isnumeric() ) # super and sub scripts\n",
    "print( k.isdecimal() ) # roman I, II, IV"
   ]
  },
  {
   "cell_type": "code",
   "execution_count": 100,
   "metadata": {},
   "outputs": [
    {
     "name": "stdout",
     "output_type": "stream",
     "text": [
      "H₂SO₄\n"
     ]
    }
   ],
   "source": [
    "print(u'H\\u2082SO\\u2084')  # H₂SO₄"
   ]
  },
  {
   "cell_type": "code",
   "execution_count": 103,
   "metadata": {},
   "outputs": [
    {
     "name": "stdout",
     "output_type": "stream",
     "text": [
      "H₂SO₄\n",
      "False\n",
      "False\n",
      "False\n"
     ]
    }
   ],
   "source": [
    "x = u'H\\u2082SO\\u2084' \n",
    "print(x)\n",
    "\n",
    "print( x.isdigit() )  # 0 - 9\n",
    "print( x.isnumeric() ) # super and sub scripts\n",
    "print( x.isdecimal() ) # roman I, II, IV"
   ]
  },
  {
   "cell_type": "code",
   "execution_count": null,
   "metadata": {},
   "outputs": [],
   "source": []
  },
  {
   "cell_type": "code",
   "execution_count": null,
   "metadata": {},
   "outputs": [],
   "source": []
  },
  {
   "cell_type": "code",
   "execution_count": null,
   "metadata": {},
   "outputs": [],
   "source": []
  },
  {
   "cell_type": "code",
   "execution_count": null,
   "metadata": {},
   "outputs": [],
   "source": []
  },
  {
   "cell_type": "code",
   "execution_count": 105,
   "metadata": {},
   "outputs": [
    {
     "ename": "TypeError",
     "evalue": "find() takes at least 1 argument (0 given)",
     "output_type": "error",
     "traceback": [
      "\u001b[1;31m---------------------------------------------------------------------------\u001b[0m",
      "\u001b[1;31mTypeError\u001b[0m                                 Traceback (most recent call last)",
      "\u001b[1;32m<ipython-input-105-ecfbdc074b7b>\u001b[0m in \u001b[0;36m<module>\u001b[1;34m\u001b[0m\n\u001b[0;32m      2\u001b[0m \u001b[1;33m\u001b[0m\u001b[0m\n\u001b[0;32m      3\u001b[0m \u001b[0mabc\u001b[0m \u001b[1;33m=\u001b[0m \u001b[1;34m\"Asc bvbd \"\u001b[0m\u001b[1;33m\u001b[0m\u001b[1;33m\u001b[0m\u001b[0m\n\u001b[1;32m----> 4\u001b[1;33m \u001b[0mabc\u001b[0m\u001b[1;33m.\u001b[0m\u001b[0mfind\u001b[0m\u001b[1;33m(\u001b[0m\u001b[1;33m)\u001b[0m\u001b[1;33m\u001b[0m\u001b[1;33m\u001b[0m\u001b[0m\n\u001b[0m",
      "\u001b[1;31mTypeError\u001b[0m: find() takes at least 1 argument (0 given)"
     ]
    }
   ],
   "source": [
    "# correct datatype\n",
    "\n",
    "abc = \"Asc bvbd \"\n",
    "abc.find() # shift + tab\n",
    "\n",
    "abc.replace()"
   ]
  },
  {
   "cell_type": "code",
   "execution_count": null,
   "metadata": {},
   "outputs": [],
   "source": []
  },
  {
   "cell_type": "code",
   "execution_count": null,
   "metadata": {},
   "outputs": [],
   "source": []
  },
  {
   "cell_type": "code",
   "execution_count": null,
   "metadata": {},
   "outputs": [],
   "source": []
  },
  {
   "cell_type": "code",
   "execution_count": null,
   "metadata": {},
   "outputs": [],
   "source": []
  },
  {
   "cell_type": "code",
   "execution_count": null,
   "metadata": {},
   "outputs": [],
   "source": []
  },
  {
   "cell_type": "code",
   "execution_count": null,
   "metadata": {},
   "outputs": [],
   "source": []
  },
  {
   "cell_type": "code",
   "execution_count": null,
   "metadata": {},
   "outputs": [],
   "source": []
  }
 ],
 "metadata": {
  "kernelspec": {
   "display_name": "Python 3",
   "language": "python",
   "name": "python3"
  },
  "language_info": {
   "codemirror_mode": {
    "name": "ipython",
    "version": 3
   },
   "file_extension": ".py",
   "mimetype": "text/x-python",
   "name": "python",
   "nbconvert_exporter": "python",
   "pygments_lexer": "ipython3",
   "version": "3.8.3"
  }
 },
 "nbformat": 4,
 "nbformat_minor": 4
}
