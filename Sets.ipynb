{
 "cells": [
  {
   "cell_type": "markdown",
   "metadata": {},
   "source": [
    "# Sets\n",
    "\n",
    "- collection of UNIQUE heterogeneous elements, seperated by commas\n",
    "- represented by {\"\"} or {''}\n",
    "- Unordered\n",
    "- Sets are Mutable, but elements written inside sets shall be IMMUTABLE\n"
   ]
  },
  {
   "cell_type": "code",
   "execution_count": 4,
   "metadata": {},
   "outputs": [
    {
     "name": "stdout",
     "output_type": "stream",
     "text": [
      "<class 'set'>\n"
     ]
    }
   ],
   "source": [
    "s = {''}\n",
    "\n",
    "print(  type(s) )\n"
   ]
  },
  {
   "cell_type": "code",
   "execution_count": 5,
   "metadata": {},
   "outputs": [
    {
     "name": "stdout",
     "output_type": "stream",
     "text": [
      "{False, 5.2, 'A', 5, 8.2, 10, 'Z'}\n"
     ]
    }
   ],
   "source": [
    "s = {10, 10, 5.2 , False, False, 8.2, \"A\", \"Z\", 5, 10, 10, False}\n",
    "print(s)\n",
    "\n"
   ]
  },
  {
   "cell_type": "markdown",
   "metadata": {},
   "source": [
    "## Basic Propertiees"
   ]
  },
  {
   "cell_type": "code",
   "execution_count": 7,
   "metadata": {},
   "outputs": [
    {
     "name": "stdout",
     "output_type": "stream",
     "text": [
      "{False, 5.2, 'A', 5, 8.2, 10, 'Z'}\n",
      "7\n"
     ]
    }
   ],
   "source": [
    "# 1. Len\n",
    "\n",
    "s = {10, 10, 5.2 , False, False, 8.2, \"A\", \"Z\", 5, 10, 10, False}\n",
    "print(s)\n",
    "\n",
    "print( len( s ) )\n"
   ]
  },
  {
   "cell_type": "code",
   "execution_count": 10,
   "metadata": {},
   "outputs": [
    {
     "name": "stdout",
     "output_type": "stream",
     "text": [
      "[False, 5.2, 'A', 5, 8.2, 10, 'Z']\n",
      "7\n"
     ]
    }
   ],
   "source": [
    "# application : Get Unique elements present inside the sequence\n",
    "\n",
    "s = [10, 10, 5.2 , False, False, 8.2, \"A\", \"Z\", 5, 10, 10, False]\n",
    "s = set(s)\n",
    "s = list(s)\n",
    "print(s)\n",
    "\n",
    "print( len( s ) )\n"
   ]
  },
  {
   "cell_type": "code",
   "execution_count": 12,
   "metadata": {},
   "outputs": [
    {
     "ename": "TypeError",
     "evalue": "'set' object is not subscriptable",
     "output_type": "error",
     "traceback": [
      "\u001b[1;31m---------------------------------------------------------------------------\u001b[0m",
      "\u001b[1;31mTypeError\u001b[0m                                 Traceback (most recent call last)",
      "\u001b[1;32m<ipython-input-12-fa41278f1c65>\u001b[0m in \u001b[0;36m<module>\u001b[1;34m\u001b[0m\n\u001b[0;32m      2\u001b[0m \u001b[1;33m\u001b[0m\u001b[0m\n\u001b[0;32m      3\u001b[0m \u001b[0ms\u001b[0m \u001b[1;33m=\u001b[0m \u001b[1;33m{\u001b[0m\u001b[1;36m10\u001b[0m\u001b[1;33m,\u001b[0m \u001b[1;36m10\u001b[0m\u001b[1;33m,\u001b[0m \u001b[1;36m5.2\u001b[0m \u001b[1;33m,\u001b[0m \u001b[1;32mFalse\u001b[0m\u001b[1;33m,\u001b[0m \u001b[1;32mFalse\u001b[0m\u001b[1;33m,\u001b[0m \u001b[1;36m8.2\u001b[0m\u001b[1;33m,\u001b[0m \u001b[1;34m\"A\"\u001b[0m\u001b[1;33m,\u001b[0m \u001b[1;34m\"Z\"\u001b[0m\u001b[1;33m,\u001b[0m \u001b[1;36m5\u001b[0m\u001b[1;33m,\u001b[0m \u001b[1;36m10\u001b[0m\u001b[1;33m,\u001b[0m \u001b[1;36m10\u001b[0m\u001b[1;33m,\u001b[0m \u001b[1;32mFalse\u001b[0m\u001b[1;33m}\u001b[0m\u001b[1;33m\u001b[0m\u001b[1;33m\u001b[0m\u001b[0m\n\u001b[1;32m----> 4\u001b[1;33m \u001b[0mprint\u001b[0m\u001b[1;33m(\u001b[0m  \u001b[0ms\u001b[0m\u001b[1;33m[\u001b[0m\u001b[1;36m2\u001b[0m \u001b[1;33m:\u001b[0m \u001b[1;36m4\u001b[0m\u001b[1;33m]\u001b[0m  \u001b[1;33m)\u001b[0m\u001b[1;33m\u001b[0m\u001b[1;33m\u001b[0m\u001b[0m\n\u001b[0m",
      "\u001b[1;31mTypeError\u001b[0m: 'set' object is not subscriptable"
     ]
    }
   ],
   "source": [
    "# 2. Index and Slicing :: Not allowed\n",
    "\n",
    "s = {10, 10, 5.2 , False, False, 8.2, \"A\", \"Z\", 5, 10, 10, False}\n",
    "# print(  s[2 : 4]  )\n"
   ]
  },
  {
   "cell_type": "code",
   "execution_count": 14,
   "metadata": {},
   "outputs": [
    {
     "ename": "TypeError",
     "evalue": "unsupported operand type(s) for *: 'set' and 'int'",
     "output_type": "error",
     "traceback": [
      "\u001b[1;31m---------------------------------------------------------------------------\u001b[0m",
      "\u001b[1;31mTypeError\u001b[0m                                 Traceback (most recent call last)",
      "\u001b[1;32m<ipython-input-14-4fd8cd866ac1>\u001b[0m in \u001b[0;36m<module>\u001b[1;34m\u001b[0m\n\u001b[0;32m      5\u001b[0m \u001b[1;31m# print( s + s )\u001b[0m\u001b[1;33m\u001b[0m\u001b[1;33m\u001b[0m\u001b[1;33m\u001b[0m\u001b[0m\n\u001b[0;32m      6\u001b[0m \u001b[1;33m\u001b[0m\u001b[0m\n\u001b[1;32m----> 7\u001b[1;33m \u001b[0ms\u001b[0m \u001b[1;33m*\u001b[0m \u001b[1;36m3\u001b[0m\u001b[1;33m\u001b[0m\u001b[1;33m\u001b[0m\u001b[0m\n\u001b[0m",
      "\u001b[1;31mTypeError\u001b[0m: unsupported operand type(s) for *: 'set' and 'int'"
     ]
    }
   ],
   "source": [
    "# 3. Concat and Repeat :: Not allowed\n",
    "\n",
    "s = {10, 10, 5.2 , False, False, 8.2, \"A\", \"Z\", 5, 10, 10, False}\n",
    "# print(  s[2 : 4]  )\n",
    "# print( s + s )\n",
    "\n",
    "# s * 3\n"
   ]
  },
  {
   "cell_type": "code",
   "execution_count": 16,
   "metadata": {},
   "outputs": [
    {
     "name": "stdout",
     "output_type": "stream",
     "text": [
      "True\n",
      "False\n"
     ]
    }
   ],
   "source": [
    "# 4. memebership\n",
    "s = {10, 10, 5.2 , False, False, 8.2, \"A\", \"Z\", 5, 10, 10, False}\n",
    "\n",
    "print( False in s )\n",
    "print( 999 in s )\n"
   ]
  },
  {
   "cell_type": "code",
   "execution_count": 21,
   "metadata": {},
   "outputs": [
    {
     "data": {
      "text/plain": [
       "{(4, 2, 4, 2), -3.5, 4, 6j, False, 'Hello'}"
      ]
     },
     "execution_count": 21,
     "metadata": {},
     "output_type": "execute_result"
    }
   ],
   "source": [
    "# setName = {4, -3.5, \"Hello\", False, 6j, {4, 2, 4, 2}}\n",
    "\n",
    "# setName = {4, -3.5, \"Hello\", False, 6j, [4, 2, 4, 2]}\n",
    "\n",
    "setName = {4, -3.5, \"Hello\", False, 6j, (4, 2, 4, 2)} # mutable operation meaning :: insertion deletion\n",
    "setName\n",
    "\n"
   ]
  },
  {
   "cell_type": "code",
   "execution_count": null,
   "metadata": {},
   "outputs": [],
   "source": []
  },
  {
   "cell_type": "markdown",
   "metadata": {},
   "source": [
    "# Set Methods"
   ]
  },
  {
   "cell_type": "code",
   "execution_count": 23,
   "metadata": {},
   "outputs": [
    {
     "data": {
      "text/plain": [
       "{(4, 2, 4, 2), -3.5, 4, 6j, 99, False, 'Hello'}"
      ]
     },
     "execution_count": 23,
     "metadata": {},
     "output_type": "execute_result"
    }
   ],
   "source": [
    "# Insert using add\n",
    "# it insets only SINGLE element\n",
    "\n",
    "setName = {4, -3.5, \"Hello\", False, 6j, (4, 2, 4, 2)}\n",
    "setName.add(99)\n",
    "\n",
    "setName\n"
   ]
  },
  {
   "cell_type": "code",
   "execution_count": 29,
   "metadata": {},
   "outputs": [
    {
     "data": {
      "text/plain": [
       "{(1, 2, 3), (4, 2, 4, 2), -3.5, 4, 42, 6j, 99, False, 'Hello'}"
      ]
     },
     "execution_count": 29,
     "metadata": {},
     "output_type": "execute_result"
    }
   ],
   "source": [
    "# Insert using update\n",
    "# it insets only MULTIPLE element\n",
    "\n",
    "setName = {4, -3.5, \"Hello\", False, 6j, (4, 2, 4, 2)}\n",
    "setName.update(  [99, False, False, 42]) # Share a list/tuple of elements\n",
    "setName.update( ( (1, 2, 3),  99, False, False, 42 )) # Share a list of elements\n",
    "\n",
    "setName\n"
   ]
  },
  {
   "cell_type": "code",
   "execution_count": 30,
   "metadata": {},
   "outputs": [
    {
     "name": "stdout",
     "output_type": "stream",
     "text": [
      "False\n",
      "{(4, 2, 4, 2), 4, 6j, -3.5, 'Hello'}\n"
     ]
    }
   ],
   "source": [
    "# Delete \n",
    "\n",
    "setName = {4, -3.5, \"Hello\", False, 6j, (4, 2, 4, 2)}\n",
    "print( setName.pop() )\n",
    "print(setName)\n"
   ]
  },
  {
   "cell_type": "code",
   "execution_count": null,
   "metadata": {},
   "outputs": [],
   "source": []
  },
  {
   "cell_type": "code",
   "execution_count": null,
   "metadata": {},
   "outputs": [],
   "source": []
  },
  {
   "cell_type": "markdown",
   "metadata": {},
   "source": [
    "# Del"
   ]
  },
  {
   "cell_type": "code",
   "execution_count": 41,
   "metadata": {},
   "outputs": [],
   "source": [
    "stringName = \",cewhvcbhej xeb\"\n",
    "listName = [4, 7, 4, 2, 3]\n",
    "tupName = (4, 7, 4, 2, 3)\n",
    "setName = {4, 7, 4, 2, 3}\n",
    "\n",
    "\n",
    "# Delete ANY OBJECT in Python\n",
    "del stringName, listName, tupName, setName\n",
    "\n",
    "\n"
   ]
  },
  {
   "cell_type": "code",
   "execution_count": 37,
   "metadata": {},
   "outputs": [
    {
     "ename": "NameError",
     "evalue": "name 'stringName' is not defined",
     "output_type": "error",
     "traceback": [
      "\u001b[1;31m---------------------------------------------------------------------------\u001b[0m",
      "\u001b[1;31mNameError\u001b[0m                                 Traceback (most recent call last)",
      "\u001b[1;32m<ipython-input-37-1a598ddeaadb>\u001b[0m in \u001b[0;36m<module>\u001b[1;34m\u001b[0m\n\u001b[1;32m----> 1\u001b[1;33m \u001b[0mstringName\u001b[0m\u001b[1;33m\u001b[0m\u001b[1;33m\u001b[0m\u001b[0m\n\u001b[0m",
      "\u001b[1;31mNameError\u001b[0m: name 'stringName' is not defined"
     ]
    }
   ],
   "source": [
    "stringName"
   ]
  },
  {
   "cell_type": "code",
   "execution_count": 38,
   "metadata": {},
   "outputs": [
    {
     "ename": "NameError",
     "evalue": "name 'listName' is not defined",
     "output_type": "error",
     "traceback": [
      "\u001b[1;31m---------------------------------------------------------------------------\u001b[0m",
      "\u001b[1;31mNameError\u001b[0m                                 Traceback (most recent call last)",
      "\u001b[1;32m<ipython-input-38-a45901f0836a>\u001b[0m in \u001b[0;36m<module>\u001b[1;34m\u001b[0m\n\u001b[1;32m----> 1\u001b[1;33m \u001b[0mlistName\u001b[0m\u001b[1;33m\u001b[0m\u001b[1;33m\u001b[0m\u001b[0m\n\u001b[0m",
      "\u001b[1;31mNameError\u001b[0m: name 'listName' is not defined"
     ]
    }
   ],
   "source": [
    "listName"
   ]
  },
  {
   "cell_type": "code",
   "execution_count": 39,
   "metadata": {},
   "outputs": [
    {
     "ename": "NameError",
     "evalue": "name 'setName' is not defined",
     "output_type": "error",
     "traceback": [
      "\u001b[1;31m---------------------------------------------------------------------------\u001b[0m",
      "\u001b[1;31mNameError\u001b[0m                                 Traceback (most recent call last)",
      "\u001b[1;32m<ipython-input-39-5c9327f1889a>\u001b[0m in \u001b[0;36m<module>\u001b[1;34m\u001b[0m\n\u001b[1;32m----> 1\u001b[1;33m \u001b[0msetName\u001b[0m\u001b[1;33m\u001b[0m\u001b[1;33m\u001b[0m\u001b[0m\n\u001b[0m",
      "\u001b[1;31mNameError\u001b[0m: name 'setName' is not defined"
     ]
    }
   ],
   "source": [
    "setName"
   ]
  },
  {
   "cell_type": "code",
   "execution_count": 40,
   "metadata": {},
   "outputs": [
    {
     "ename": "NameError",
     "evalue": "name 'tupName' is not defined",
     "output_type": "error",
     "traceback": [
      "\u001b[1;31m---------------------------------------------------------------------------\u001b[0m",
      "\u001b[1;31mNameError\u001b[0m                                 Traceback (most recent call last)",
      "\u001b[1;32m<ipython-input-40-8048c152a062>\u001b[0m in \u001b[0;36m<module>\u001b[1;34m\u001b[0m\n\u001b[1;32m----> 1\u001b[1;33m \u001b[0mtupName\u001b[0m\u001b[1;33m\u001b[0m\u001b[1;33m\u001b[0m\u001b[0m\n\u001b[0m",
      "\u001b[1;31mNameError\u001b[0m: name 'tupName' is not defined"
     ]
    }
   ],
   "source": [
    "tupName"
   ]
  },
  {
   "cell_type": "code",
   "execution_count": null,
   "metadata": {},
   "outputs": [],
   "source": []
  },
  {
   "cell_type": "code",
   "execution_count": 43,
   "metadata": {},
   "outputs": [
    {
     "name": "stdout",
     "output_type": "stream",
     "text": [
      "{3, 100, 'sql', '!', 7, '*', '@', '$', 'python'}\n"
     ]
    }
   ],
   "source": [
    "# Set operations\n",
    "\n",
    "setA = {\"@\", \"python\", \"$\", 100, \"*\"}\n",
    "setB = {'python', 'sql', \"$\", \"!\", 3, 7}\n",
    "\n",
    "union = setA.union(setB)\n",
    "print(union)\n",
    "\n",
    "\n"
   ]
  },
  {
   "cell_type": "code",
   "execution_count": 46,
   "metadata": {},
   "outputs": [
    {
     "name": "stdout",
     "output_type": "stream",
     "text": [
      "{'$', 'python'}\n"
     ]
    }
   ],
   "source": [
    "# Set operations\n",
    "\n",
    "setA = {\"@\", \"python\", \"$\", 100, \"*\"}\n",
    "setB = {'python', 'sql', \"$\", \"!\", 3, 7}\n",
    "\n",
    "intersect = setA.intersection(setB)\n",
    "print(intersect)\n",
    "\n",
    "\n"
   ]
  },
  {
   "cell_type": "code",
   "execution_count": 49,
   "metadata": {},
   "outputs": [
    {
     "name": "stdout",
     "output_type": "stream",
     "text": [
      "{3, 'sql', '!', 7, 100, '*', '@'}\n"
     ]
    }
   ],
   "source": [
    "# Set operations\n",
    "\n",
    "setA = {\"@\", \"python\", \"$\", 100, \"*\"}\n",
    "setB = {'python', 'sql', \"$\", \"!\", 3, 7}\n",
    "\n",
    "symm_diff = setA.symmetric_difference(setB)\n",
    "print(symm_diff)\n",
    "\n",
    "\n"
   ]
  },
  {
   "cell_type": "code",
   "execution_count": 50,
   "metadata": {},
   "outputs": [
    {
     "name": "stdout",
     "output_type": "stream",
     "text": [
      "{'*', 100, '@'}\n"
     ]
    }
   ],
   "source": [
    "# Set operations\n",
    "\n",
    "setA = {\"@\", \"python\", \"$\", 100, \"*\"}\n",
    "setB = {'python', 'sql', \"$\", \"!\", 3, 7}\n",
    "\n",
    "a_diff_b = setA.difference(setB)\n",
    "print(a_diff_b)\n",
    "\n",
    "\n"
   ]
  },
  {
   "attachments": {
    "image.png": {
     "image/png": "[encoded data removed]"
    }
   },
   "cell_type": "markdown",
   "metadata": {},
   "source": [
    "![image.png](attachment:image.png)"
   ]
  },
  {
   "cell_type": "code",
   "execution_count": 51,
   "metadata": {},
   "outputs": [
    {
     "name": "stdout",
     "output_type": "stream",
     "text": [
      "True\n",
      "True\n"
     ]
    }
   ],
   "source": [
    "# Set operations\n",
    "\n",
    "setA = {\"@\", \"python\", \"$\", 100, \"*\"}\n",
    "setB = {'python', 'sql', \"$\", \"!\", 3, 7}\n",
    "setC = {\"python\", \"$\"}\n",
    "\n",
    "print( setC.issubset(setA) )\n",
    "print( setC.issubset(setB) )\n",
    "\n"
   ]
  },
  {
   "cell_type": "code",
   "execution_count": null,
   "metadata": {},
   "outputs": [],
   "source": []
  },
  {
   "cell_type": "code",
   "execution_count": null,
   "metadata": {},
   "outputs": [],
   "source": []
  },
  {
   "cell_type": "code",
   "execution_count": null,
   "metadata": {},
   "outputs": [],
   "source": []
  },
  {
   "cell_type": "code",
   "execution_count": null,
   "metadata": {},
   "outputs": [],
   "source": []
  }
 ],
 "metadata": {
  "kernelspec": {
   "display_name": "Python 3 (ipykernel)",
   "language": "python",
   "name": "python3"
  },
  "language_info": {
   "codemirror_mode": {
    "name": "ipython",
    "version": 3
   },
   "file_extension": ".py",
   "mimetype": "text/x-python",
   "name": "python",
   "nbconvert_exporter": "python",
   "pygments_lexer": "ipython3",
   "version": "3.9.13"
  }
 },
 "nbformat": 4,
 "nbformat_minor": 4
}
