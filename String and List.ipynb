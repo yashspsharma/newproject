{
 "cells": [
  {
   "cell_type": "markdown",
   "metadata": {},
   "source": [
    "# Strings\n",
    "\n",
    "### Split\n",
    "\n",
    "- seperating the chars on the basis of pattern\n",
    "- return LIST\n",
    "- stringName.split(\"pattern\")"
   ]
  },
  {
   "cell_type": "code",
   "execution_count": 5,
   "metadata": {},
   "outputs": [
    {
     "name": "stdout",
     "output_type": "stream",
     "text": [
      "i love python programming and bring on challenges\n",
      "49\n",
      "['i', 'love', 'python', 'programming', 'and', 'bring', 'on', 'challenges']\n",
      "8\n"
     ]
    }
   ],
   "source": [
    "s = \"i love python programming and bring on challenges\"\n",
    "print(s)\n",
    "print(len(s))\n",
    "\n",
    "res = s.split(\" \")\n",
    "print(res)\n",
    "print(len(res))"
   ]
  },
  {
   "cell_type": "code",
   "execution_count": 7,
   "metadata": {},
   "outputs": [
    {
     "name": "stdout",
     "output_type": "stream",
     "text": [
      "i love python programming and bring on challenges\n",
      "49\n",
      "['i love pyth', ' programming and bring ', ' challenges']\n",
      "3\n"
     ]
    }
   ],
   "source": [
    "s = \"i love python programming and bring on challenges\"\n",
    "print(s)\n",
    "print(len(s))\n",
    "\n",
    "res = s.split(\"on\") # i love pyth,  programming and bring , challenges\n",
    "print(res)\n",
    "print(len(res))"
   ]
  },
  {
   "cell_type": "code",
   "execution_count": 9,
   "metadata": {},
   "outputs": [
    {
     "name": "stdout",
     "output_type": "stream",
     "text": [
      "i love python programming and bring on challenges\n",
      "49\n",
      "['i love ', 'ython ', 'rogramming and bring on challenges']\n",
      "3\n"
     ]
    }
   ],
   "source": [
    "s = \"i love python programming and bring on challenges\"\n",
    "print(s)\n",
    "print(len(s))\n",
    "\n",
    "res = s.split(\"p\") #i love ,ython ,rogramming and bring on challenges\n",
    "print(res)\n",
    "print(len(res))  # ????"
   ]
  },
  {
   "cell_type": "code",
   "execution_count": 17,
   "metadata": {},
   "outputs": [
    {
     "name": "stdout",
     "output_type": "stream",
     "text": [
      "['RAM', 'is', 'born', 'in', 'Delhi', 'on', '15-03-2020'] <class 'list'>\n",
      "15-03-2020 <class 'str'>\n",
      "['15', '03', '2020'] <class 'list'>\n",
      "\n",
      "Day : 15\n",
      "Month : 03\n",
      "Year : 2020\n"
     ]
    }
   ],
   "source": [
    "# Template\n",
    "# Day : 15\n",
    "# Month : 03\n",
    "# Year : 2020\n",
    "\n",
    "msg = \"RAM is born in Delhi on 15-03-2020\"\n",
    "\n",
    "res = msg.split(\" \")\n",
    "print(res, type(res))\n",
    "\n",
    "output = res[-1]\n",
    "print(output, type(output))\n",
    "\n",
    "res2 = output.split(\"-\")\n",
    "print(res2, type(res2))\n",
    "\n",
    "print( f\"\"\"\n",
    "Day : {res2[0]}\n",
    "Month : {res2[1]}\n",
    "Year : {res2[2]}\"\"\" )\n"
   ]
  },
  {
   "cell_type": "code",
   "execution_count": 20,
   "metadata": {},
   "outputs": [
    {
     "name": "stdout",
     "output_type": "stream",
     "text": [
      "['15', '03', '2020'] <class 'list'>\n",
      "\n",
      "Day : 15\n",
      "Month : 03\n",
      "Year : 2020\n"
     ]
    }
   ],
   "source": [
    "# Assuming FIXED Template here\n",
    "# Day : 15\n",
    "# Month : 03\n",
    "# Year : 2020\n",
    "\n",
    "msg = \"RAM is born in Delhi on 15-03-2020\"\n",
    "\n",
    "res = msg.split(\" \")[-1].split(\"-\")\n",
    "print(res, type(res))\n",
    "\n",
    "\n",
    "print( f\"\"\"\n",
    "Day : {res[0]}\n",
    "Month : {res[1]}\n",
    "Year : {res[2]}\"\"\" )\n"
   ]
  },
  {
   "cell_type": "code",
   "execution_count": null,
   "metadata": {},
   "outputs": [],
   "source": []
  },
  {
   "cell_type": "code",
   "execution_count": null,
   "metadata": {},
   "outputs": [],
   "source": []
  },
  {
   "cell_type": "code",
   "execution_count": 59,
   "metadata": {},
   "outputs": [
    {
     "name": "stdout",
     "output_type": "stream",
     "text": [
      "['OTP', 'sent', 'is', '8751', '', '', '', 'and', '', '', 'phone', '7123645899', 'and', 'nitish@gmail.com']\n",
      "Mobile Number =  7123645899\n",
      "7123645899\n"
     ]
    }
   ],
   "source": [
    "# Extract Mobile Number (10 digit)\n",
    "word=\"OTP sent is 8751    and   phone 7123645899 and nitish@gmail.com\"\n",
    "\n",
    "res = word.split(\" \")\n",
    "print(res)\n",
    "\n",
    "\"\"\"\n",
    "for i in range( len(res) ) : \n",
    "    if res[i].isdigit()  : \n",
    "        print(\"Mobile Number = \", res[i])\n",
    "\"\"\"\n",
    "\n",
    "for i in range( len(res) ) : \n",
    "    if res[i].isdigit() and len(res[i]) == 10 : \n",
    "        print(\"Mobile Number = \", res[i])\n",
    "\n",
    "for k in res : \n",
    "#     print(k)\n",
    "    if k.isdigit() and len(k) == 10  : \n",
    "        print(k)"
   ]
  },
  {
   "cell_type": "code",
   "execution_count": 35,
   "metadata": {},
   "outputs": [
    {
     "name": "stdout",
     "output_type": "stream",
     "text": [
      "['OTP', 'sent', 'is', '8751', '', '', '', 'and', '', '', 'phone', '7123645899', 'and', 'nitish@gmail.com']\n",
      "nitish@gmail.com\n",
      "nitish@gmail.com\n",
      "nitish@gmail.com\n"
     ]
    }
   ],
   "source": [
    "# Extract Email Address\n",
    "word=\"OTP sent is 8751    and   phone 7123645899 and nitish@gmail.com\"\n",
    "\n",
    "res = word.split(\" \")\n",
    "print(res)\n",
    "\n",
    "# approach 1 : \n",
    "print(res[-1])\n",
    "\n",
    "# approach 2 : \n",
    "\"\"\"\n",
    "for i in range(len(res)) : \n",
    "    if not(res[i].isalnum()) : \n",
    "        print(res[i])\n",
    "\"\"\"\n",
    "for i in range(len(res)) : \n",
    "    if not(res[i].isalnum()) and len(res[i]) > 0: \n",
    "        print(res[i])\n",
    "\n",
    "# approach 3 : \n",
    "for i in range(len(res)) : \n",
    "    if \"@\" in res[i]: \n",
    "        print(res[i])\n",
    "\n"
   ]
  },
  {
   "cell_type": "code",
   "execution_count": null,
   "metadata": {},
   "outputs": [],
   "source": []
  },
  {
   "cell_type": "code",
   "execution_count": 39,
   "metadata": {},
   "outputs": [
    {
     "name": "stdout",
     "output_type": "stream",
     "text": [
      "['OTP', 'sent', 'is', '8751', '', '', '', 'and', '', '', 'phone', '7123645899', '/', '9654542410', 'and', 'nitish@gmail.com', 'and', 'arun@hotmail.com']\n"
     ]
    },
    {
     "data": {
      "text/plain": [
       "['7123645899', '9654542410']"
      ]
     },
     "execution_count": 39,
     "metadata": {},
     "output_type": "execute_result"
    }
   ],
   "source": [
    "# Save all Mobile Numbers (10 digit) to the list\n",
    "# Save all email adress to the list\n",
    "\n",
    "word=\"OTP sent is 8751    and   phone 7123645899 / 9654542410 and nitish@gmail.com and arun@hotmail.com\"\n",
    "\n",
    "res = word.split(\" \")\n",
    "print(res)\n",
    "\n",
    "storage = []\n",
    "for i in range( len(res) ) : \n",
    "    if res[i].isdigit() and len( res[i] ) == 10 : \n",
    "        storage.append( res[i] )\n",
    "\n",
    "storage\n"
   ]
  },
  {
   "cell_type": "code",
   "execution_count": 40,
   "metadata": {},
   "outputs": [
    {
     "name": "stdout",
     "output_type": "stream",
     "text": [
      "['OTP', 'sent', 'is', '8751', '', '', '', 'and', '', '', 'phone', '7123645899', '/', '9654542410', 'and', 'nitish@gmail.com', 'and', 'arun@hotmail.com']\n"
     ]
    },
    {
     "data": {
      "text/plain": [
       "['nitish@gmail.com', 'arun@hotmail.com']"
      ]
     },
     "execution_count": 40,
     "metadata": {},
     "output_type": "execute_result"
    }
   ],
   "source": [
    "# Save all Mobile Numbers (10 digit) to the list\n",
    "# Save all email adress to the list\n",
    "\n",
    "word=\"OTP sent is 8751    and   phone 7123645899 / 9654542410 and nitish@gmail.com and arun@hotmail.com\"\n",
    "\n",
    "res = word.split(\" \")\n",
    "print(res)\n",
    "\n",
    "storage = []\n",
    "for i in range( len(res) ) : \n",
    "    if \"@\" in res[i] : \n",
    "        storage.append( res[i] ) # storage = storage + list()\n",
    "\n",
    "storage\n"
   ]
  },
  {
   "cell_type": "code",
   "execution_count": 63,
   "metadata": {},
   "outputs": [
    {
     "name": "stdout",
     "output_type": "stream",
     "text": [
      "['OTP', 'sent', 'is', '8751', '', '', '', 'and', '', '', 'phone', '7123645899', '/', '9654542410', 'and', 'nitish@gmail.com', 'and', 'arun@hotmail.com']\n"
     ]
    },
    {
     "data": {
      "text/plain": [
       "['7123645899', '9654542410', 'nitish@gmail.com', 'arun@hotmail.com']"
      ]
     },
     "execution_count": 63,
     "metadata": {},
     "output_type": "execute_result"
    }
   ],
   "source": [
    "# Save all Mobile Numbers (10 digit) to the list\n",
    "# Save all email adress to the list\n",
    "\n",
    "word=\"OTP sent is 8751    and   phone 7123645899 / 9654542410 and nitish@gmail.com and arun@hotmail.com\"\n",
    "\n",
    "res = word.split(\" \")\n",
    "print(res)\n",
    "\n",
    "storage = []\n",
    "for i in range( len(res) ) : \n",
    "    if ( res[i].isdigit() and len( res[i] ) == 10 ) or ( \"@\" in res[i]) : \n",
    "        storage.append( res[i] )\n",
    "\n",
    "storage\n"
   ]
  },
  {
   "cell_type": "code",
   "execution_count": null,
   "metadata": {},
   "outputs": [],
   "source": []
  },
  {
   "cell_type": "code",
   "execution_count": null,
   "metadata": {},
   "outputs": [],
   "source": []
  },
  {
   "cell_type": "code",
   "execution_count": null,
   "metadata": {},
   "outputs": [],
   "source": []
  },
  {
   "cell_type": "code",
   "execution_count": 60,
   "metadata": {},
   "outputs": [
    {
     "name": "stdout",
     "output_type": "stream",
     "text": [
      "abc.png\n",
      "class.py\n",
      "student.py\n",
      "song.mp3\n",
      "video.mp4\n",
      "file.pdf\n"
     ]
    },
    {
     "data": {
      "text/plain": [
       "['class.py', 'student.py']"
      ]
     },
     "execution_count": 60,
     "metadata": {},
     "output_type": "execute_result"
    }
   ],
   "source": [
    "# Extract only python files from the below list\n",
    "files = [\"abc.png\", \"class.py\", \"student.py\", \"song.mp3\", \"video.mp4\", \"file.pdf\"]\n",
    "\n",
    "pyFiles = []\n",
    "for i in range(len(files)):\n",
    "    print(files[i])\n",
    "    if \".py\" in files[i]:\n",
    "#         print(f\"Python File : {files[i]}\")\n",
    "        pyFiles.append(files[i])\n",
    "\n",
    "pyFiles\n"
   ]
  },
  {
   "cell_type": "code",
   "execution_count": 62,
   "metadata": {},
   "outputs": [
    {
     "name": "stdout",
     "output_type": "stream",
     "text": [
      "abc.png\n",
      "class.py\n",
      "student.py\n",
      "song.mp3\n",
      "video.mp4\n",
      "file.pdf\n"
     ]
    },
    {
     "data": {
      "text/plain": [
       "['class.py', 'student.py']"
      ]
     },
     "execution_count": 62,
     "metadata": {},
     "output_type": "execute_result"
    }
   ],
   "source": [
    "# Extract only python files from the below list\n",
    "files = [\"abc.png\", \"class.py\", \"student.py\", \"song.mp3\", \"video.mp4\", \"file.pdf\"]\n",
    "\n",
    "pyFiles = []\n",
    "\n",
    "for f in files : \n",
    "    print(f)\n",
    "    if \".py\" in f : \n",
    "        pyFiles.append(f)\n",
    "\n",
    "pyFiles\n"
   ]
  },
  {
   "cell_type": "code",
   "execution_count": null,
   "metadata": {},
   "outputs": [],
   "source": []
  },
  {
   "cell_type": "markdown",
   "metadata": {},
   "source": [
    "## String Join\n",
    "\n",
    "- Join the elements of the list into string on the basis of the pattern\n",
    "- this will return string\n",
    "\n",
    "- Reference : stringName.split(\"pattern\")\n",
    "- (\"pattern\").join(listName)"
   ]
  },
  {
   "cell_type": "code",
   "execution_count": 48,
   "metadata": {},
   "outputs": [
    {
     "name": "stdout",
     "output_type": "stream",
     "text": [
      "i love python programming and bring on challenges\n",
      "49\n",
      "['i', 'love', 'python', 'programming', 'and', 'bring', 'on', 'challenges']\n",
      "8\n"
     ]
    },
    {
     "data": {
      "text/plain": [
       "'i-love-python-programming-and-bring-on-challenges'"
      ]
     },
     "execution_count": 48,
     "metadata": {},
     "output_type": "execute_result"
    }
   ],
   "source": [
    "s = \"i love python programming and bring on challenges\"\n",
    "print(s)\n",
    "print(len(s))\n",
    "\n",
    "res = s.split(\" \")\n",
    "print(res)\n",
    "print(len(res))\n",
    "\n",
    "finalString = (\"-\").join(res)\n",
    "finalString\n"
   ]
  },
  {
   "cell_type": "code",
   "execution_count": null,
   "metadata": {},
   "outputs": [],
   "source": []
  },
  {
   "cell_type": "code",
   "execution_count": 50,
   "metadata": {},
   "outputs": [
    {
     "name": "stdout",
     "output_type": "stream",
     "text": [
      "i love python programming and bring on challenges\n",
      "49\n",
      "['i love ', 'ython ', 'rogramming and bring on challenges']\n",
      "3\n"
     ]
    },
    {
     "data": {
      "text/plain": [
       "'i love python programming and bring on challenges'"
      ]
     },
     "execution_count": 50,
     "metadata": {},
     "output_type": "execute_result"
    }
   ],
   "source": [
    "s = \"i love python programming and bring on challenges\"\n",
    "print(s)\n",
    "print(len(s))\n",
    "\n",
    "res = s.split(\"p\") #i love ,ython ,rogramming and bring on challenges\n",
    "print(res)\n",
    "print(len(res))  # ????\n",
    "\n",
    "finalString = (\"p\").join(res)\n",
    "finalString"
   ]
  },
  {
   "cell_type": "code",
   "execution_count": 52,
   "metadata": {},
   "outputs": [
    {
     "name": "stdout",
     "output_type": "stream",
     "text": [
      "['10', '58.22', 'a', 'False', '6j']\n"
     ]
    },
    {
     "data": {
      "text/plain": [
       "'10***58.22***a***False***6j'"
      ]
     },
     "execution_count": 52,
     "metadata": {},
     "output_type": "execute_result"
    }
   ],
   "source": [
    "# 10***58.22***\"a\"***False***6j \n",
    "\n",
    "listName = [10, 58.22, \"a\", False, 6j]\n",
    "\n",
    "newList = []\n",
    "for i in range( len(listName) ) : \n",
    "    newList.append( str( listName[i] ) )\n",
    "\n",
    "print(newList)\n",
    "\n",
    "(\"***\").join(newList)\n"
   ]
  },
  {
   "cell_type": "code",
   "execution_count": null,
   "metadata": {},
   "outputs": [],
   "source": []
  },
  {
   "cell_type": "code",
   "execution_count": null,
   "metadata": {},
   "outputs": [],
   "source": []
  },
  {
   "cell_type": "code",
   "execution_count": null,
   "metadata": {},
   "outputs": [],
   "source": []
  },
  {
   "cell_type": "markdown",
   "metadata": {},
   "source": [
    "# For Loops\n",
    "\n",
    "seq = \"\"\n",
    "seq = []\n",
    "seq = ()\n",
    "\n",
    "\n",
    "for iterator in range(start, end) : \n",
    "    statements\n",
    "    statements\n",
    "    statements\n",
    "    \n",
    "    seq[iterator]\n",
    "    \n"
   ]
  },
  {
   "cell_type": "code",
   "execution_count": null,
   "metadata": {},
   "outputs": [],
   "source": [
    "# For Loops\n",
    "\n",
    "seq = \"\"\n",
    "seq = []\n",
    "seq = ()\n",
    "\n",
    "\n",
    "for iterator in seq : \n",
    "    statements\n",
    "    statements\n",
    "    statements\n",
    "    \n",
    "    iterator\n",
    "    \n"
   ]
  },
  {
   "cell_type": "code",
   "execution_count": 55,
   "metadata": {},
   "outputs": [
    {
     "name": "stdout",
     "output_type": "stream",
     "text": [
      "p\n",
      "y\n",
      "t\n",
      "h\n",
      "o\n",
      "n\n"
     ]
    }
   ],
   "source": [
    "s = \"python\"\n",
    "\n",
    "for i in range(len(s)) : \n",
    "    print(s[i])\n"
   ]
  },
  {
   "cell_type": "code",
   "execution_count": 56,
   "metadata": {},
   "outputs": [
    {
     "name": "stdout",
     "output_type": "stream",
     "text": [
      "p\n",
      "y\n",
      "t\n",
      "h\n",
      "o\n",
      "n\n"
     ]
    }
   ],
   "source": [
    "s = \"python\"\n",
    "\n",
    "for i in s : \n",
    "    print(i)\n"
   ]
  },
  {
   "cell_type": "code",
   "execution_count": null,
   "metadata": {},
   "outputs": [],
   "source": []
  },
  {
   "cell_type": "code",
   "execution_count": null,
   "metadata": {},
   "outputs": [],
   "source": []
  },
  {
   "cell_type": "code",
   "execution_count": null,
   "metadata": {},
   "outputs": [],
   "source": []
  },
  {
   "cell_type": "code",
   "execution_count": null,
   "metadata": {},
   "outputs": [],
   "source": []
  },
  {
   "cell_type": "code",
   "execution_count": null,
   "metadata": {},
   "outputs": [],
   "source": []
  },
  {
   "cell_type": "code",
   "execution_count": null,
   "metadata": {},
   "outputs": [],
   "source": []
  },
  {
   "cell_type": "code",
   "execution_count": null,
   "metadata": {},
   "outputs": [],
   "source": []
  },
  {
   "cell_type": "code",
   "execution_count": null,
   "metadata": {},
   "outputs": [],
   "source": []
  },
  {
   "cell_type": "code",
   "execution_count": null,
   "metadata": {},
   "outputs": [],
   "source": []
  },
  {
   "cell_type": "code",
   "execution_count": null,
   "metadata": {},
   "outputs": [],
   "source": []
  },
  {
   "cell_type": "code",
   "execution_count": null,
   "metadata": {},
   "outputs": [],
   "source": []
  },
  {
   "cell_type": "code",
   "execution_count": null,
   "metadata": {},
   "outputs": [],
   "source": []
  },
  {
   "cell_type": "code",
   "execution_count": null,
   "metadata": {},
   "outputs": [],
   "source": []
  },
  {
   "cell_type": "code",
   "execution_count": null,
   "metadata": {},
   "outputs": [],
   "source": []
  },
  {
   "cell_type": "code",
   "execution_count": null,
   "metadata": {},
   "outputs": [],
   "source": []
  },
  {
   "cell_type": "code",
   "execution_count": null,
   "metadata": {},
   "outputs": [],
   "source": []
  }
 ],
 "metadata": {
  "kernelspec": {
   "display_name": "Python 3 (ipykernel)",
   "language": "python",
   "name": "python3"
  },
  "language_info": {
   "codemirror_mode": {
    "name": "ipython",
    "version": 3
   },
   "file_extension": ".py",
   "mimetype": "text/x-python",
   "name": "python",
   "nbconvert_exporter": "python",
   "pygments_lexer": "ipython3",
   "version": "3.9.13"
  }
 },
 "nbformat": 4,
 "nbformat_minor": 4
}
